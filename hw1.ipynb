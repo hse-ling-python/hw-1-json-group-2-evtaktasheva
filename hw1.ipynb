{
 "cells": [
  {
   "cell_type": "markdown",
   "metadata": {},
   "source": [
    "## ДЗ1\n",
    "### Такташева Екатерина, БКЛ182\n",
    "\n",
    "Импортируем модуль JSON:"
   ]
  },
  {
   "cell_type": "code",
   "execution_count": 103,
   "metadata": {},
   "outputs": [],
   "source": [
    "import json"
   ]
  },
  {
   "cell_type": "markdown",
   "metadata": {},
   "source": [
    "Считываем файл в список словарей:"
   ]
  },
  {
   "cell_type": "code",
   "execution_count": 104,
   "metadata": {},
   "outputs": [],
   "source": [
    "twitter = []\n",
    "for line in open('hw_3_twitter.json'):\n",
    "    twitter.append(json.loads(line))"
   ]
  },
  {
   "cell_type": "markdown",
   "metadata": {},
   "source": [
    "### Задание 1: Количество твитов (и ретвитов) в наборе"
   ]
  },
  {
   "cell_type": "code",
   "execution_count": 105,
   "metadata": {},
   "outputs": [],
   "source": [
    "number_of_tweets = len(twitter)"
   ]
  },
  {
   "cell_type": "markdown",
   "metadata": {},
   "source": [
    "#### Ответ: "
   ]
  },
  {
   "cell_type": "code",
   "execution_count": 106,
   "metadata": {},
   "outputs": [
    {
     "name": "stdout",
     "output_type": "stream",
     "text": [
      "Колчество твитов равно 2556\n"
     ]
    }
   ],
   "source": [
    "print('Колчество твитов равно', number_of_tweets)"
   ]
  },
  {
   "cell_type": "markdown",
   "metadata": {},
   "source": [
    "### Задание 2: Процент удаленных твитов\n",
    "Создаем два пустых списка normal и deleted, перебираем словари-твиты, если в словаре встречается ключ 'delete', то добавляем его в соответсвующий список"
   ]
  },
  {
   "cell_type": "code",
   "execution_count": 107,
   "metadata": {},
   "outputs": [],
   "source": [
    "normal = []\n",
    "deleted = []\n",
    "for i in range(len(twitter)):\n",
    "    if 'delete' in twitter[i].keys():\n",
    "        deleted.append(twitter[i])\n",
    "    else:\n",
    "        normal.append(twitter[i])"
   ]
  },
  {
   "cell_type": "markdown",
   "metadata": {},
   "source": [
    "#### Ответ: "
   ]
  },
  {
   "cell_type": "code",
   "execution_count": 108,
   "metadata": {},
   "outputs": [
    {
     "name": "stdout",
     "output_type": "stream",
     "text": [
      "Процент удаленных твитов равен 14.162754303599373\n"
     ]
    }
   ],
   "source": [
    "print('Процент удаленных твитов равен', \n",
    "      len(deleted) / number_of_tweets * 100)"
   ]
  },
  {
   "cell_type": "markdown",
   "metadata": {},
   "source": [
    "### Задание 3: Самые популярные языки твитов\n",
    "Импортируем модуль Counter"
   ]
  },
  {
   "cell_type": "code",
   "execution_count": 109,
   "metadata": {},
   "outputs": [],
   "source": [
    "from collections import Counter"
   ]
  },
  {
   "cell_type": "markdown",
   "metadata": {},
   "source": [
    "Создаем пустой список languages, перебираем неудалённые твиты, добавляем в список значение ключа 'lang', создаем словарь"
   ]
  },
  {
   "cell_type": "code",
   "execution_count": 110,
   "metadata": {},
   "outputs": [],
   "source": [
    "languages = []\n",
    "for i in range(len(normal)):\n",
    "    languages.append(normal[i]['lang'])\n",
    "dic = Counter(languages)"
   ]
  },
  {
   "cell_type": "markdown",
   "metadata": {},
   "source": [
    "Сортируем словарь по частотности и распечатываем 10 самых популярных языков"
   ]
  },
  {
   "cell_type": "code",
   "execution_count": 111,
   "metadata": {},
   "outputs": [],
   "source": [
    "common_lang = '№:\\tЯзык:\\tКол-во твитов:\\n'  # заголовок\n",
    "i = 1\n",
    "for lang, count in dic.most_common(10):\n",
    "    common_lang += (str(i) + '\\t' + lang + \n",
    "                    '\\t' + str(count) + '\\n')\n",
    "    i += 1"
   ]
  },
  {
   "cell_type": "markdown",
   "metadata": {},
   "source": [
    "#### Ответ:"
   ]
  },
  {
   "cell_type": "code",
   "execution_count": 112,
   "metadata": {},
   "outputs": [
    {
     "name": "stdout",
     "output_type": "stream",
     "text": [
      "Список самых популярных языков:\n",
      "\n",
      "№:\tЯзык:\tКол-во твитов:\n",
      "1\ten\t719\n",
      "2\tja\t438\n",
      "3\tes\t173\n",
      "4\tko\t149\n",
      "5\tth\t123\n",
      "6\tar\t119\n",
      "7\tund\t117\n",
      "8\tin\t71\n",
      "9\tpt\t69\n",
      "10\tfr\t35\n",
      "\n"
     ]
    }
   ],
   "source": [
    "print('Список самых популярных языков:\\n\\n', \n",
    "      common_lang, sep='')"
   ]
  },
  {
   "cell_type": "markdown",
   "metadata": {},
   "source": [
    "### Задание 4: Твиты одного и того же пользователя\n",
    "Для начала создадим пустой спиок user_id:"
   ]
  },
  {
   "cell_type": "code",
   "execution_count": 113,
   "metadata": {},
   "outputs": [],
   "source": [
    "user_id = []"
   ]
  },
  {
   "cell_type": "markdown",
   "metadata": {},
   "source": [
    "Добавим в список все id пользователей из неудалённых твитов:"
   ]
  },
  {
   "cell_type": "code",
   "execution_count": 114,
   "metadata": {},
   "outputs": [],
   "source": [
    "for i in range(len(normal)):\n",
    "    user_id.append(normal[i]['user']['id_str'])"
   ]
  },
  {
   "cell_type": "markdown",
   "metadata": {},
   "source": [
    "Теперь добавим в список все id пользователей из удалённых твитов:"
   ]
  },
  {
   "cell_type": "code",
   "execution_count": 115,
   "metadata": {},
   "outputs": [],
   "source": [
    "for i in range(len(deleted)):\n",
    "    user_id.append(deleted[i]['delete']['status']['user_id_str'])"
   ]
  },
  {
   "cell_type": "markdown",
   "metadata": {},
   "source": [
    "Создадим словарь Counter, чтобы посчитать количество совпавших id, создадим переменную-счётчик user_match, которая будет считать количество совпадающих id:"
   ]
  },
  {
   "cell_type": "code",
   "execution_count": 116,
   "metadata": {},
   "outputs": [],
   "source": [
    "users = Counter(user_id)\n",
    "user_match = 0\n",
    "for value in users.values():\n",
    "    if value > 1:\n",
    "        user_match += 1"
   ]
  },
  {
   "cell_type": "markdown",
   "metadata": {},
   "source": [
    "#### Ответ:"
   ]
  },
  {
   "cell_type": "code",
   "execution_count": 117,
   "metadata": {},
   "outputs": [
    {
     "name": "stdout",
     "output_type": "stream",
     "text": [
      "Количество пользователей, написавших более одного твита: 66\n"
     ]
    }
   ],
   "source": [
    "print(\"\"\"Количество пользователей, написавших более одного твита:\"\"\",\n",
    "      user_match)"
   ]
  },
  {
   "cell_type": "markdown",
   "metadata": {},
   "source": [
    "### Задание 5: Топ-20 хэштегов\n",
    "Создаем пустой список, перебираем, находим ключ 'hashtag' и добавляем в список. "
   ]
  },
  {
   "cell_type": "code",
   "execution_count": 118,
   "metadata": {},
   "outputs": [],
   "source": [
    "hashtag_list = []\n",
    "for i in range(len(normal)):\n",
    "    hashtag = normal[i]['entities']['hashtags']\n",
    "    if len(hashtag) != 0:\n",
    "        for j in range(len(hashtag)):\n",
    "            hashtag_list.append(hashtag[j]['text'])"
   ]
  },
  {
   "cell_type": "markdown",
   "metadata": {},
   "source": [
    "Создаем переменную для вывода, добавляем в нее топ-20 хэштегов"
   ]
  },
  {
   "cell_type": "code",
   "execution_count": 119,
   "metadata": {},
   "outputs": [],
   "source": [
    "common_hashtags = '№:\\tХэштег:\\tКол-во:\\n'\n",
    "i = 1\n",
    "for tag, count in Counter(hashtag_list).most_common(20):\n",
    "    common_hashtags += (str(i) + '\\t' + tag + '\\t' \n",
    "                        + str(count) +'\\n')\n",
    "    i += 1"
   ]
  },
  {
   "cell_type": "markdown",
   "metadata": {},
   "source": [
    "#### Ответ:"
   ]
  },
  {
   "cell_type": "code",
   "execution_count": 120,
   "metadata": {},
   "outputs": [
    {
     "name": "stdout",
     "output_type": "stream",
     "text": [
      "Список самых популярных хэштегов:\n",
      "\n",
      "№:\tХэштег:\tКол-во:\n",
      "1\tBTS\t17\n",
      "2\t방탄소년단\t13\n",
      "3\tAMAs\t11\n",
      "4\t人気投票ガチャ\t8\n",
      "5\t태형\t7\n",
      "6\t뷔\t6\n",
      "7\tBTSinChicago\t5\n",
      "8\tBTSLoveYourselfTour\t5\n",
      "9\t오늘의방탄\t5\n",
      "10\tPledgeForSwachhBharat\t5\n",
      "11\tMPN\t5\n",
      "12\tPCAs\t4\n",
      "13\tV\t4\n",
      "14\t시카고1회차공연\t4\n",
      "15\tเป๊กผลิตโชค\t4\n",
      "16\tJIMIN\t4\n",
      "17\trunning\t3\n",
      "18\tNCT\t3\n",
      "19\t지민\t3\n",
      "20\tWajahmuPlastik\t3\n",
      "\n"
     ]
    }
   ],
   "source": [
    "print('Список самых популярных хэштегов:\\n\\n', \n",
    "      common_hashtags, sep='')"
   ]
  },
  {
   "cell_type": "markdown",
   "metadata": {},
   "source": [
    "### Задание 6: Частотный словарь твитов на английском языке\n",
    "##### При поддержке Ани Аксёновой\n",
    "NB: я не стала использовать строку string.punctuation, т.к. она включает апострофы (которые все же являются частью слова), но игнорирует некоторые знаки пунктуации (например, многоточие)\n",
    "\n",
    "Импортируем модуль re:"
   ]
  },
  {
   "cell_type": "code",
   "execution_count": 121,
   "metadata": {},
   "outputs": [],
   "source": [
    "import re"
   ]
  },
  {
   "cell_type": "markdown",
   "metadata": {},
   "source": [
    "Создадим списки, в которые положим все знаки, которые хотим удалить:\n",
    "\n",
    "NB: Еще я заметила, что не все ставят одинаковые апострофы (' или ’), поэтому решила заморочиться и привести из все к одному виду, то же самое с тире и дефисами"
   ]
  },
  {
   "cell_type": "code",
   "execution_count": 282,
   "metadata": {},
   "outputs": [],
   "source": [
    "punct = ['‐ ', ' ‐', ' ‐ ', \"’ \", \" ’\"]\n",
    "word_pattern = r\"[^-A-Z’a-z\\s]\"\n",
    "link_pattern = r'http(s)?.*?(\\s|$)'  \n",
    "handle_pattern = r'(@.*?(\\s|$))'\n",
    "hashtag_pattern = r'(#.+?(\\s|$))'"
   ]
  },
  {
   "cell_type": "markdown",
   "metadata": {},
   "source": [
    "Создаем список твитов на анлийском языке (не включающий ретвиты):"
   ]
  },
  {
   "cell_type": "code",
   "execution_count": 283,
   "metadata": {},
   "outputs": [],
   "source": [
    "original_tweets = []\n",
    "for i in range(len(normal)):\n",
    "    if ('retweeted_status' not in normal[i].keys() \n",
    "        and normal[i]['lang'] == 'en'):\n",
    "        original_tweets.append(normal[i]['text'])"
   ]
  },
  {
   "cell_type": "markdown",
   "metadata": {},
   "source": [
    "Для начала удалим все эмоджи, ссылки, хэндлы пользователей и пунктуацию:"
   ]
  },
  {
   "cell_type": "code",
   "execution_count": 293,
   "metadata": {},
   "outputs": [],
   "source": [
    "parced_tweets = []\n",
    "for tweet in original_tweets:\n",
    "    tweet = re.sub(r\"'\", '’', tweet)  # замена апострофа\n",
    "    tweet = re.sub(r'—|-', '‐', tweet)  # замена дефисов и тире\n",
    "    tweet = re.sub(handle_pattern, ' ', tweet)  # удаляем хэндлы \n",
    "    tweet = re.sub(link_pattern, ' ', tweet)  # удаляем ссылки\n",
    "    tweet = re.sub(hashtag_pattern, ' ', tweet)  # удаляем хэштеги\n",
    "    for char in punct:\n",
    "        tweet = tweet.strip()\n",
    "        tweet = tweet.replace(char, '')  # удаляем странные знаки\n",
    "        tweet = re.sub(word_pattern, ' ', tweet)  # удаляем не слова\n",
    "    tweet = tweet.lower().split()\n",
    "    parced_tweets.extend(tweet)"
   ]
  },
  {
   "cell_type": "markdown",
   "metadata": {},
   "source": [
    "Создадим частотный словарь и \"положим\" первые 20 самых частотных элементов в переменную: "
   ]
  },
  {
   "cell_type": "code",
   "execution_count": 294,
   "metadata": {},
   "outputs": [],
   "source": [
    "parced_counter = '№:\\tСлово:\\tКол-во вхождений:\\n'\n",
    "i = 1\n",
    "for word, count in Counter(parced_tweets).most_common(20):  \n",
    "    parced_counter += (str(i) + '\\t' + word + \n",
    "                       '\\t' + str(count) + '\\n')\n",
    "    i += 1"
   ]
  },
  {
   "cell_type": "markdown",
   "metadata": {},
   "source": [
    "#### Ответ:"
   ]
  },
  {
   "cell_type": "code",
   "execution_count": 295,
   "metadata": {},
   "outputs": [
    {
     "name": "stdout",
     "output_type": "stream",
     "text": [
      "Самые частотные слова:\n",
      "\n",
      "№:\tСлово:\tКол-во вхождений:\n",
      "1\tthe\t126\n",
      "2\tto\t86\n",
      "3\ta\t83\n",
      "4\ti\t75\n",
      "5\tand\t65\n",
      "6\tis\t51\n",
      "7\tyou\t48\n",
      "8\tof\t46\n",
      "9\tfor\t42\n",
      "10\tit\t42\n",
      "11\tin\t38\n",
      "12\tthat\t33\n",
      "13\tthis\t32\n",
      "14\tmy\t30\n",
      "15\tme\t28\n",
      "16\tbe\t26\n",
      "17\ton\t26\n",
      "18\twhat\t21\n",
      "19\tare\t21\n",
      "20\tso\t20\n",
      "\n"
     ]
    }
   ],
   "source": [
    "print('Самые частотные слова:\\n\\n', parced_counter, sep='')"
   ]
  },
  {
   "cell_type": "markdown",
   "metadata": {},
   "source": [
    "### Задание 7: количество подписчиков"
   ]
  },
  {
   "cell_type": "markdown",
   "metadata": {},
   "source": [
    "Для начала \"достанем\" данные о подписчиках в список followers, при том будем записывать в него кортежи вида (username, number of followers):"
   ]
  },
  {
   "cell_type": "code",
   "execution_count": 287,
   "metadata": {},
   "outputs": [],
   "source": [
    "followers = []\n",
    "for i in range(len(normal)):\n",
    "    followers.append((normal[i]['user']['name'], \n",
    "                      normal[i]['user']['followers_count']))"
   ]
  },
  {
   "cell_type": "markdown",
   "metadata": {},
   "source": [
    "Создадим пустой словарь-счетчик и, пройдясь по кортежам из списка, добавим в него данные о подписчиках:"
   ]
  },
  {
   "cell_type": "code",
   "execution_count": 279,
   "metadata": {},
   "outputs": [],
   "source": [
    "followers_dict = Counter()\n",
    "for pare in followers:\n",
    "    followers_dict[pare[0]] = pare[1]"
   ]
  },
  {
   "cell_type": "markdown",
   "metadata": {},
   "source": [
    "Запишем данные о 10 самых популярных пользователях в переменную followers_counter:"
   ]
  },
  {
   "cell_type": "code",
   "execution_count": 280,
   "metadata": {},
   "outputs": [],
   "source": [
    "followers_counter = '№:\\tИмя пользователя:\\tКол-во подписчиков:\\n'\n",
    "i = 1\n",
    "for name, count in followers_dict.most_common(10):\n",
    "    followers_counter += (str(i) + '\\t' + name \n",
    "                          + '\\t' + str(count) + '\\n')\n",
    "    i += 1"
   ]
  },
  {
   "cell_type": "markdown",
   "metadata": {},
   "source": [
    "#### Ответ:"
   ]
  },
  {
   "cell_type": "code",
   "execution_count": 281,
   "metadata": {},
   "outputs": [
    {
     "name": "stdout",
     "output_type": "stream",
     "text": [
      "Самые популярные пользователи:\n",
      "\n",
      "№:\tИмя пользователя:\tКол-во подписчиков:\n",
      "1\tFilosofía♕\t2521403\n",
      "2\tFITNESS Magazine\t1491309\n",
      "3\tmalaysiakini.com\t1206759\n",
      "4\tNYT Science\t1137374\n",
      "5\tGramática\t625463\n",
      "6\tTGRT Haber\t392472\n",
      "7\tThe Sun Football ⚽\t383698\n",
      "8\tMelbourne, Australia\t374222\n",
      "9\tRoznama Express\t318189\n",
      "10\t💞 ცųཞɠɛཞცơơɠıɛ 💞\t311319\n",
      "\n"
     ]
    }
   ],
   "source": [
    "print('Самые популярные пользователи:\\n\\n',\n",
    "      followers_counter, sep='')"
   ]
  },
  {
   "cell_type": "markdown",
   "metadata": {},
   "source": [
    "### Задание 8: Самые популярные источники"
   ]
  },
  {
   "cell_type": "markdown",
   "metadata": {},
   "source": [
    "Запишем все источники в отдельный список list_of_sources:"
   ]
  },
  {
   "cell_type": "code",
   "execution_count": 270,
   "metadata": {},
   "outputs": [],
   "source": [
    "list_of_sources = []\n",
    "for i in range(len(normal)):\n",
    "    list_of_sources.append(normal[i]['source'])               "
   ]
  },
  {
   "cell_type": "markdown",
   "metadata": {},
   "source": [
    "При помощи регулярного выражения \"вытащим\" из тэга source собственно сам источник твита:"
   ]
  },
  {
   "cell_type": "code",
   "execution_count": 248,
   "metadata": {},
   "outputs": [],
   "source": [
    "sources = []\n",
    "source_pattern = r'(?:>(.+?)</a>)'\n",
    "for tag in list_of_sources:\n",
    "    sources.append(re.search(source_pattern, tag)[1])"
   ]
  },
  {
   "cell_type": "markdown",
   "metadata": {},
   "source": [
    "Создадим словарь-счетчик и запишем 10 самых популярных источников в переменную sources_counter:"
   ]
  },
  {
   "cell_type": "code",
   "execution_count": 249,
   "metadata": {},
   "outputs": [],
   "source": [
    "sources_counter = '№:\\tИсточник:\\tКол-во записей:\\n'\n",
    "i = 1\n",
    "for source, count in Counter(sources).most_common(10):\n",
    "    sources_counter += (str(i) + '\\t' + source \n",
    "                        + '\\t' + str(count) + '\\n')\n",
    "    i += 1"
   ]
  },
  {
   "cell_type": "markdown",
   "metadata": {},
   "source": [
    "#### Ответ:"
   ]
  },
  {
   "cell_type": "code",
   "execution_count": 250,
   "metadata": {},
   "outputs": [
    {
     "name": "stdout",
     "output_type": "stream",
     "text": [
      "Самые популярные источники:\n",
      "\n",
      "№:\tИсточник:\tКол-во записей:\n",
      "1\tTwitter for iPhone\t800\n",
      "2\tTwitter for Android\t695\n",
      "3\tTwitter Web Client\t140\n",
      "4\ttwittbot.net\t122\n",
      "5\tTwitter Lite\t51\n",
      "6\tTwitter for iPad\t28\n",
      "7\tTweetDeck\t23\n",
      "8\tFacebook\t17\n",
      "9\tIFTTT\t14\n",
      "10\tتطبيق قرآني\t10\n",
      "\n"
     ]
    }
   ],
   "source": [
    "print('Самые популярные источники:\\n\\n',\n",
    "      sources_counter, sep='')"
   ]
  }
 ],
 "metadata": {
  "kernelspec": {
   "display_name": "Python 3",
   "language": "python",
   "name": "python3"
  },
  "language_info": {
   "codemirror_mode": {
    "name": "ipython",
    "version": 3
   },
   "file_extension": ".py",
   "mimetype": "text/x-python",
   "name": "python",
   "nbconvert_exporter": "python",
   "pygments_lexer": "ipython3",
   "version": "3.6.5"
  }
 },
 "nbformat": 4,
 "nbformat_minor": 2
}
